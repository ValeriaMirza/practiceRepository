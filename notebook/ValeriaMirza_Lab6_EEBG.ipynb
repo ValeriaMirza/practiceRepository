{
  "nbformat": 4,
  "nbformat_minor": 0,
  "metadata": {
    "colab": {
      "provenance": []
    },
    "kernelspec": {
      "name": "python3",
      "display_name": "Python 3"
    },
    "language_info": {
      "name": "python"
    }
  },
  "cells": [
    {
      "cell_type": "markdown",
      "source": [
        "# Lab Assignment 7: Sharing your projects on GitHub"
      ],
      "metadata": {
        "id": "4xHE4wFG4PMx"
      }
    },
    {
      "cell_type": "code",
      "execution_count": 1,
      "metadata": {
        "id": "tmVD_qBl4IRj"
      },
      "outputs": [],
      "source": [
        "%%bash\n",
        "rm -r sample_data"
      ]
    },
    {
      "cell_type": "code",
      "source": [
        "%%bash\n",
        "cat > .gitignore\n",
        ".*\n",
        ".gitignore"
      ],
      "metadata": {
        "id": "PC7wtkvk5XWf"
      },
      "execution_count": 2,
      "outputs": []
    },
    {
      "cell_type": "code",
      "source": [
        "%%bash\n",
        "git config --global user.email \"valeriamirza5@gmail.com\"\n",
        "git config --global user.name \"Mîrza Valeria\""
      ],
      "metadata": {
        "id": "tv_m5alD5bTy"
      },
      "execution_count": 3,
      "outputs": []
    },
    {
      "cell_type": "code",
      "source": [
        "%%bash\n",
        "git init"
      ],
      "metadata": {
        "colab": {
          "base_uri": "https://localhost:8080/"
        },
        "id": "XidxV54G5gaW",
        "outputId": "3fcf7579-f0eb-46cb-e488-2225b3e6d79a"
      },
      "execution_count": 4,
      "outputs": [
        {
          "output_type": "stream",
          "name": "stdout",
          "text": [
            "Initialized empty Git repository in /content/.git/\n"
          ]
        },
        {
          "output_type": "stream",
          "name": "stderr",
          "text": [
            "hint: Using 'master' as the name for the initial branch. This default branch name\n",
            "hint: is subject to change. To configure the initial branch name to use in all\n",
            "hint: of your new repositories, which will suppress this warning, call:\n",
            "hint: \n",
            "hint: \tgit config --global init.defaultBranch <name>\n",
            "hint: \n",
            "hint: Names commonly chosen instead of 'master' are 'main', 'trunk' and\n",
            "hint: 'development'. The just-created branch can be renamed via this command:\n",
            "hint: \n",
            "hint: \tgit branch -m <name>\n"
          ]
        }
      ]
    },
    {
      "cell_type": "code",
      "source": [
        "%%bash\n",
        "mkdir summarydata notebook figure"
      ],
      "metadata": {
        "id": "yQli17Xs53ss"
      },
      "execution_count": 5,
      "outputs": []
    },
    {
      "cell_type": "code",
      "source": [
        "%%bash\n",
        "cat > README.txt\n",
        "The  current directory(practiceRepository) contains 3 subdirectories:\n",
        "summarydata, notebook and figure.\n",
        "The summarydata directory stores tabular data files,\n",
        "the notebook directory stores IPython notebook files,\n",
        "and the figure directory stores THE project's."
      ],
      "metadata": {
        "id": "eGlV3YSd6eXu"
      },
      "execution_count": 8,
      "outputs": []
    },
    {
      "cell_type": "code",
      "source": [
        "%%bash\n",
        "cd summarydata\n",
        "wget -nv -O titanic.csv 'https://raw.githubusercontent.com/mwaskom/seaborn-data/master/titanic.csv'"
      ],
      "metadata": {
        "colab": {
          "base_uri": "https://localhost:8080/"
        },
        "id": "v_mrtJnW98AB",
        "outputId": "ff4c986c-b8f0-4dea-9244-fcbc3410e930"
      },
      "execution_count": 13,
      "outputs": [
        {
          "output_type": "stream",
          "name": "stderr",
          "text": [
            "2024-08-09 16:30:34 URL:https://raw.githubusercontent.com/mwaskom/seaborn-data/master/titanic.csv [57018/57018] -> \"titanic.csv\" [1]\n"
          ]
        }
      ]
    },
    {
      "cell_type": "code",
      "source": [
        "%%bash\n",
        "cd summarydata\n",
        "cat > README.txt\n",
        "The current directory(summarydata) contains titanic.csv file."
      ],
      "metadata": {
        "id": "hgXecDmb-ogx"
      },
      "execution_count": 16,
      "outputs": []
    },
    {
      "cell_type": "code",
      "source": [
        "%%bash\n",
        "cd notebook\n",
        "gdown https://drive.google.com/uc?id=1fCKfqRxd6ZiNyzFobrVxL6-fCrTQnyVF -O ValeriaMirza_Lab1_EEBG.ipynb\n",
        "gdown https://drive.google.com/uc?id=1qUqKthMgeAwiDEzjO4ji9gOYjg8CbvhE -O ValeriaMirza_Lab2_EEBG.ipynb\n",
        "gdown https://drive.google.com/uc?id=1f9zQm5wpVX3rT4sKZMIkvIcHjOLndoUW -O ValeriaMirza_Lab3_EEBG.ipynb\n",
        "gdown https://drive.google.com/uc?id=1ZZK1cu2FGzLomEYr5Gvn8NIKpVeJ2PJ4 -O ValeriaMirza_Lab4_EEBG.ipynb\n",
        "gdown https://drive.google.com/uc?id=1oak6QC_ZL48oMzcGdnJ7ywOPWZBDW9Kk -O ValeriaMirza_Lab5_EEBG.ipynb\n",
        "gdown https://drive.google.com/uc?id=1bfqMErnZUA9Vvh8bQkCG_q7RVKMzQ2JM -O ValeriaMirza_Lab5.1_EEBG.ipynb"
      ],
      "metadata": {
        "colab": {
          "base_uri": "https://localhost:8080/"
        },
        "id": "fWO0tV9wPXVm",
        "outputId": "198878e1-e9ed-40a7-809b-e1419e61566b"
      },
      "execution_count": 47,
      "outputs": [
        {
          "output_type": "stream",
          "name": "stderr",
          "text": [
            "Downloading...\n",
            "From: https://drive.google.com/uc?id=1fCKfqRxd6ZiNyzFobrVxL6-fCrTQnyVF\n",
            "To: /content/notebook/ValeriaMirza_Lab1_EEBG.ipynb\n",
            "\r  0%|          | 0.00/218k [00:00<?, ?B/s]\r100%|██████████| 218k/218k [00:00<00:00, 93.9MB/s]\n",
            "Downloading...\n",
            "From: https://drive.google.com/uc?id=1qUqKthMgeAwiDEzjO4ji9gOYjg8CbvhE\n",
            "To: /content/notebook/ValeriaMirza_Lab2_EEBG.ipynb\n",
            "\r  0%|          | 0.00/313k [00:00<?, ?B/s]\r100%|██████████| 313k/313k [00:00<00:00, 84.8MB/s]\n",
            "Downloading...\n",
            "From: https://drive.google.com/uc?id=1f9zQm5wpVX3rT4sKZMIkvIcHjOLndoUW\n",
            "To: /content/notebook/ValeriaMirza_Lab3_EEBG.ipynb\n",
            "\r  0%|          | 0.00/1.08M [00:00<?, ?B/s]\r100%|██████████| 1.08M/1.08M [00:00<00:00, 78.6MB/s]\n",
            "Downloading...\n",
            "From: https://drive.google.com/uc?id=1ZZK1cu2FGzLomEYr5Gvn8NIKpVeJ2PJ4\n",
            "To: /content/notebook/ValeriaMirza_Lab4_EEBG.ipynb\n",
            "\r  0%|          | 0.00/185k [00:00<?, ?B/s]\r100%|██████████| 185k/185k [00:00<00:00, 105MB/s]\n",
            "Downloading...\n",
            "From: https://drive.google.com/uc?id=1oak6QC_ZL48oMzcGdnJ7ywOPWZBDW9Kk\n",
            "To: /content/notebook/ValeriaMirza_Lab5_EEBG.ipynb\n",
            "\r  0%|          | 0.00/282k [00:00<?, ?B/s]\r100%|██████████| 282k/282k [00:00<00:00, 93.9MB/s]\n",
            "Downloading...\n",
            "From: https://drive.google.com/uc?id=1bfqMErnZUA9Vvh8bQkCG_q7RVKMzQ2JM\n",
            "To: /content/notebook/ValeriaMirza_Lab5.1_EEBG.ipynb\n",
            "\r  0%|          | 0.00/505k [00:00<?, ?B/s]\r100%|██████████| 505k/505k [00:00<00:00, 103MB/s]\n"
          ]
        }
      ]
    },
    {
      "cell_type": "code",
      "source": [
        "%%bash\n",
        "cd notebook\n",
        "cat > README.txt\n",
        "The current directory(notebook) contains 6 files: ValeriaMirza_Lab1_EEBG.ipynb,\n",
        "ValeriaMirza_Lab1_EEBG.ipynb, ValeriaMirza_Lab2_EEBG.ipynb, ValeriaMirza_Lab3_EEBG.ipynb,\n",
        "ValeriaMirza_Lab4_EEBG.ipynb, ValeriaMirza_Lab5_EEBG.ipynb, ValeriaMirza_Lab5.11_EEBG.ipynb."
      ],
      "metadata": {
        "id": "Es241PCTRf0K"
      },
      "execution_count": 48,
      "outputs": []
    },
    {
      "cell_type": "code",
      "source": [
        "%%bash\n",
        "cd figure\n",
        "gdown https://drive.google.com/uc?id=1F2ExCmauOdEJkQ7XBnjKfqbqY19iYCGx -O Figure1.png\n",
        "gdown https://drive.google.com/uc?id=1bnVDcM6yIRoBUR19xwRh5LdmfnY6xjGc -O Figure2.png\n",
        "gdown https://drive.google.com/uc?id=1_Y1QY_htf2pr5bLMjMxVKVnOQji33TEa -O Figure3.png\n",
        "gdown https://drive.google.com/uc?id=1y9ToQrsGPhkKLKtRMGqWK-Oeo5DuSlBu -O Figure4.png\n",
        "gdown https://drive.google.com/uc?id=1kJthT6ROtI40KBn8njwmagW7sC0oHP-6 -O Figure5.png\n",
        "gdown https://drive.google.com/uc?id=1GhnvDU3pby7dIUn_g_hEIqt4MBfTKT_z -O Figure6.png\n",
        "gdown https://drive.google.com/uc?id=1GOTjb_NKTcAZuPdohOXVAXqRWBiFtVME -O Figure7.png\n",
        "gdown https://drive.google.com/uc?id=1kEL5Ribk_rp_0jssiS1_oQpR34lVuJfH -O Figure8.png"
      ],
      "metadata": {
        "colab": {
          "base_uri": "https://localhost:8080/"
        },
        "id": "giFlDgKaSPxR",
        "outputId": "0154e8b0-90f2-4147-ba75-f5efa0c6e241"
      },
      "execution_count": 49,
      "outputs": [
        {
          "output_type": "stream",
          "name": "stderr",
          "text": [
            "Downloading...\n",
            "From: https://drive.google.com/uc?id=1F2ExCmauOdEJkQ7XBnjKfqbqY19iYCGx\n",
            "To: /content/figure/Figure1.png\n",
            "\r  0%|          | 0.00/20.4k [00:00<?, ?B/s]\r100%|██████████| 20.4k/20.4k [00:00<00:00, 27.2MB/s]\n",
            "Downloading...\n",
            "From: https://drive.google.com/uc?id=1bnVDcM6yIRoBUR19xwRh5LdmfnY6xjGc\n",
            "To: /content/figure/Figure2.png\n",
            "\r  0%|          | 0.00/28.0k [00:00<?, ?B/s]\r100%|██████████| 28.0k/28.0k [00:00<00:00, 34.9MB/s]\n",
            "Downloading...\n",
            "From: https://drive.google.com/uc?id=1_Y1QY_htf2pr5bLMjMxVKVnOQji33TEa\n",
            "To: /content/figure/Figure3.png\n",
            "\r  0%|          | 0.00/88.4k [00:00<?, ?B/s]\r100%|██████████| 88.4k/88.4k [00:00<00:00, 84.7MB/s]\n",
            "Downloading...\n",
            "From: https://drive.google.com/uc?id=1y9ToQrsGPhkKLKtRMGqWK-Oeo5DuSlBu\n",
            "To: /content/figure/Figure4.png\n",
            "\r  0%|          | 0.00/24.8k [00:00<?, ?B/s]\r100%|██████████| 24.8k/24.8k [00:00<00:00, 32.3MB/s]\n",
            "Downloading...\n",
            "From: https://drive.google.com/uc?id=1kJthT6ROtI40KBn8njwmagW7sC0oHP-6\n",
            "To: /content/figure/Figure5.png\n",
            "\r  0%|          | 0.00/89.0k [00:00<?, ?B/s]\r100%|██████████| 89.0k/89.0k [00:00<00:00, 55.0MB/s]\n",
            "Downloading...\n",
            "From: https://drive.google.com/uc?id=1GhnvDU3pby7dIUn_g_hEIqt4MBfTKT_z\n",
            "To: /content/figure/Figure6.png\n",
            "\r  0%|          | 0.00/57.3k [00:00<?, ?B/s]\r100%|██████████| 57.3k/57.3k [00:00<00:00, 73.0MB/s]\n",
            "Downloading...\n",
            "From: https://drive.google.com/uc?id=1GOTjb_NKTcAZuPdohOXVAXqRWBiFtVME\n",
            "To: /content/figure/Figure7.png\n",
            "\r  0%|          | 0.00/74.2k [00:00<?, ?B/s]\r100%|██████████| 74.2k/74.2k [00:00<00:00, 66.2MB/s]\n",
            "Downloading...\n",
            "From: https://drive.google.com/uc?id=1kEL5Ribk_rp_0jssiS1_oQpR34lVuJfH\n",
            "To: /content/figure/Figure8.png\n",
            "\r  0%|          | 0.00/40.0k [00:00<?, ?B/s]\r100%|██████████| 40.0k/40.0k [00:00<00:00, 63.9MB/s]\n"
          ]
        }
      ]
    },
    {
      "cell_type": "code",
      "source": [
        "%%bash\n",
        "cd figure\n",
        "cat > README.txt\n",
        "The current directory(gigure) contains 8 files: Figure1.png, Figure2.png, Figure3.png, Figure4.png,\n",
        "Figure5.png, Figure6.png, Figure7.png, Figure8.png."
      ],
      "metadata": {
        "id": "Bj41BKBJYe7O"
      },
      "execution_count": 50,
      "outputs": []
    },
    {
      "cell_type": "code",
      "source": [
        "%%bash\n",
        "ssh-keygen -t ed25519 -C 'valeriamirza5@gmail.com' -f ~/.ssh/id_ed25519 -P ''\n",
        "cat > ~/.ssh/config\n",
        "Host *\n",
        "  AddKeysToAgent yes\n",
        "  IdentityFile ~/.ssh/id_ed25519"
      ],
      "metadata": {
        "colab": {
          "base_uri": "https://localhost:8080/"
        },
        "id": "IP3DM3jzYy0l",
        "outputId": "4fa39df0-ec75-46be-c2cb-31d94d9499de"
      },
      "execution_count": 51,
      "outputs": [
        {
          "output_type": "stream",
          "name": "stdout",
          "text": [
            "Generating public/private ed25519 key pair.\n",
            "Your identification has been saved in /root/.ssh/id_ed25519\n",
            "Your public key has been saved in /root/.ssh/id_ed25519.pub\n",
            "The key fingerprint is:\n",
            "SHA256:OiEBTxnbaW5tgzzbSvcs/i7T3mtato+7bbgKbvSddo8 valeriamirza5@gmail.com\n",
            "The key's randomart image is:\n",
            "+--[ED25519 256]--+\n",
            "|  . oo           |\n",
            "|   +.o .         |\n",
            "|    + +          |\n",
            "|     = o         |\n",
            "|    . B S        |\n",
            "|     o B..       |\n",
            "|      =.+o .oo   |\n",
            "|     . ==+o+*+o. |\n",
            "|      .ooBO=OOE..|\n",
            "+----[SHA256]-----+\n"
          ]
        },
        {
          "output_type": "stream",
          "name": "stderr",
          "text": [
            "Created directory '/root/.ssh'.\r\n"
          ]
        }
      ]
    },
    {
      "cell_type": "code",
      "source": [
        "%%bash\n",
        "eval \"$(ssh-agent -s)\"\n",
        "ssh-add ~/.ssh/id_ed25519"
      ],
      "metadata": {
        "colab": {
          "base_uri": "https://localhost:8080/"
        },
        "id": "V3wN8uREZYVN",
        "outputId": "336a651c-74b8-48bc-d00d-06a6ae0ff40d"
      },
      "execution_count": 52,
      "outputs": [
        {
          "output_type": "stream",
          "name": "stdout",
          "text": [
            "Agent pid 33921\n"
          ]
        },
        {
          "output_type": "stream",
          "name": "stderr",
          "text": [
            "Identity added: /root/.ssh/id_ed25519 (valeriamirza5@gmail.com)\n"
          ]
        }
      ]
    },
    {
      "cell_type": "code",
      "source": [
        "%%bash\n",
        "cat ~/.ssh/id_ed25519.pub"
      ],
      "metadata": {
        "colab": {
          "base_uri": "https://localhost:8080/"
        },
        "id": "Ca8w1136ZbKn",
        "outputId": "d1ca3165-3361-438c-823e-6ec564bdeb8e"
      },
      "execution_count": 53,
      "outputs": [
        {
          "output_type": "stream",
          "name": "stdout",
          "text": [
            "ssh-ed25519 AAAAC3NzaC1lZDI1NTE5AAAAIGNOT+d/1jVs2LYDKZQz8fmZCyRK2wkAvtXyQVgLT5V5 valeriamirza5@gmail.com\n"
          ]
        }
      ]
    },
    {
      "cell_type": "code",
      "source": [
        "!ssh -o \"StrictHostKeyChecking no\" -T git@github.com"
      ],
      "metadata": {
        "colab": {
          "base_uri": "https://localhost:8080/"
        },
        "id": "ucbJgRLQZucq",
        "outputId": "9d96491d-4e35-4ac0-8503-4e3200b0659e"
      },
      "execution_count": 54,
      "outputs": [
        {
          "output_type": "stream",
          "name": "stdout",
          "text": [
            "Warning: Permanently added 'github.com' (ED25519) to the list of known hosts.\r\n",
            "Hi ValeriaMirza! You've successfully authenticated, but GitHub does not provide shell access.\n"
          ]
        }
      ]
    },
    {
      "cell_type": "code",
      "source": [
        "%%bash\n",
        "git add -A"
      ],
      "metadata": {
        "id": "Z2WxLjWDb6RS"
      },
      "execution_count": 60,
      "outputs": []
    },
    {
      "cell_type": "code",
      "source": [
        "%%bash\n",
        "git diff --name-only --cached"
      ],
      "metadata": {
        "colab": {
          "base_uri": "https://localhost:8080/"
        },
        "id": "ZWMn5X5Gb8PK",
        "outputId": "d7991601-f2f2-4d13-904b-b7f791f2b3f0"
      },
      "execution_count": 61,
      "outputs": [
        {
          "output_type": "stream",
          "name": "stdout",
          "text": [
            "README.txt\n",
            "figure/Figure1.png\n",
            "figure/Figure2.png\n",
            "figure/Figure3.png\n",
            "figure/Figure4.png\n",
            "figure/Figure5.png\n",
            "figure/Figure6.png\n",
            "figure/Figure7.png\n",
            "figure/Figure8.png\n",
            "figure/README.txt\n",
            "notebook/README.txt\n",
            "notebook/ValeriaMirza_Lab1_EEBG.ipynb\n",
            "notebook/ValeriaMirza_Lab2_EEBG.ipynb\n",
            "notebook/ValeriaMirza_Lab3_EEBG.ipynb\n",
            "notebook/ValeriaMirza_Lab4_EEBG.ipynb\n",
            "notebook/ValeriaMirza_Lab5.1_EEBG.ipynb\n",
            "notebook/ValeriaMirza_Lab5_EEBG.ipynb\n",
            "summarydata/README.txt\n",
            "summarydata/titanic.csv\n"
          ]
        }
      ]
    },
    {
      "cell_type": "code",
      "source": [
        "%%bash\n",
        "git commit -m \"Uploaded all the files.\""
      ],
      "metadata": {
        "colab": {
          "base_uri": "https://localhost:8080/"
        },
        "id": "4BZwXNtEb-lU",
        "outputId": "566f1342-44e5-4fae-c79b-b22c05f953ca"
      },
      "execution_count": 62,
      "outputs": [
        {
          "output_type": "stream",
          "name": "stdout",
          "text": [
            "[main (root-commit) e285a52] Uploaded all the files.\n",
            " 19 files changed, 909 insertions(+)\n",
            " create mode 100644 README.txt\n",
            " create mode 100644 figure/Figure1.png\n",
            " create mode 100644 figure/Figure2.png\n",
            " create mode 100644 figure/Figure3.png\n",
            " create mode 100644 figure/Figure4.png\n",
            " create mode 100644 figure/Figure5.png\n",
            " create mode 100644 figure/Figure6.png\n",
            " create mode 100644 figure/Figure7.png\n",
            " create mode 100644 figure/Figure8.png\n",
            " create mode 100644 figure/README.txt\n",
            " create mode 100644 notebook/README.txt\n",
            " create mode 100644 notebook/ValeriaMirza_Lab1_EEBG.ipynb\n",
            " create mode 100644 notebook/ValeriaMirza_Lab2_EEBG.ipynb\n",
            " create mode 100644 notebook/ValeriaMirza_Lab3_EEBG.ipynb\n",
            " create mode 100644 notebook/ValeriaMirza_Lab4_EEBG.ipynb\n",
            " create mode 100644 notebook/ValeriaMirza_Lab5.1_EEBG.ipynb\n",
            " create mode 100644 notebook/ValeriaMirza_Lab5_EEBG.ipynb\n",
            " create mode 100644 summarydata/README.txt\n",
            " create mode 100644 summarydata/titanic.csv\n"
          ]
        }
      ]
    },
    {
      "cell_type": "code",
      "source": [
        "%%bash\n",
        "git remote add origin git@github.com:ValeriaMirza/practiceRepository.git\n",
        "git branch -M main\n",
        "git push -u origin main"
      ],
      "metadata": {
        "colab": {
          "base_uri": "https://localhost:8080/"
        },
        "id": "3PMPD-KicJHa",
        "outputId": "139f0f74-fb7b-4911-88bc-db8a0f67d542"
      },
      "execution_count": 63,
      "outputs": [
        {
          "output_type": "stream",
          "name": "stdout",
          "text": [
            "Branch 'main' set up to track remote branch 'main' from 'origin'.\n"
          ]
        },
        {
          "output_type": "stream",
          "name": "stderr",
          "text": [
            "error: remote origin already exists.\n",
            "To github.com:ValeriaMirza/practiceRepository.git\n",
            " * [new branch]      main -> main\n"
          ]
        }
      ]
    }
  ]
}